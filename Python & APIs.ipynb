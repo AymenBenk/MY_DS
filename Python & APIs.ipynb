{
 "cells": [
  {
   "cell_type": "markdown",
   "metadata": {},
   "source": [
    "Python & APIs: A Winning Combo for Reading Public Data\n",
    "https://realpython.com/python-api/?fbclid=IwAR0f30nn1KnwKMADJIcNJFNPxXtvNaJ3iOKAUHVzVno6KIY7XuPZP4k4DtQ\n"
   ]
  },
  {
   "cell_type": "code",
   "execution_count": 3,
   "metadata": {},
   "outputs": [
    {
     "name": "stdout",
     "output_type": "stream",
     "text": [
      "Requirement already satisfied: requests in c:\\users\\aymen\\anaconda3\\lib\\site-packages (2.24.0)\n",
      "Requirement already satisfied: idna<3,>=2.5 in c:\\users\\aymen\\anaconda3\\lib\\site-packages (from requests) (2.10)\n",
      "Requirement already satisfied: urllib3!=1.25.0,!=1.25.1,<1.26,>=1.21.1 in c:\\users\\aymen\\anaconda3\\lib\\site-packages (from requests) (1.25.11)\n",
      "Requirement already satisfied: certifi>=2017.4.17 in c:\\users\\aymen\\anaconda3\\lib\\site-packages (from requests) (2020.12.5)\n",
      "Requirement already satisfied: chardet<4,>=3.0.2 in c:\\users\\aymen\\anaconda3\\lib\\site-packages (from requests) (3.0.4)\n",
      "Note: you may need to restart the kernel to use updated packages.\n"
     ]
    },
    {
     "name": "stderr",
     "output_type": "stream",
     "text": [
      "WARNING: You are using pip version 20.2.3; however, version 21.0.1 is available.\n",
      "You should consider upgrading via the 'C:\\Users\\aymen\\anaconda3\\python.exe -m pip install --upgrade pip' command.\n"
     ]
    }
   ],
   "source": [
    "pip install requests"
   ]
  },
  {
   "cell_type": "code",
   "execution_count": 4,
   "metadata": {},
   "outputs": [
    {
     "name": "stdout",
     "output_type": "stream",
     "text": [
      "Collecting pip\n",
      "  Using cached pip-21.0.1-py3-none-any.whl (1.5 MB)\n",
      "Installing collected packages: pip\n",
      "  Attempting uninstall: pip\n",
      "    Found existing installation: pip 20.2.3\n",
      "    Uninstalling pip-20.2.3:\n",
      "      Successfully uninstalled pip-20.2.3\n",
      "  Rolling back uninstall of pip\n",
      "  Moving to c:\\users\\aymen\\appdata\\roaming\\python\\python38\\scripts\\\n",
      "   from C:\\Users\\aymen\\AppData\\Roaming\\Python\\Python38\\~cripts\n",
      "  Moving to c:\\users\\aymen\\appdata\\roaming\\python\\python38\\site-packages\\pip-20.2.3.dist-info\\\n",
      "   from C:\\Users\\aymen\\AppData\\Roaming\\Python\\Python38\\site-packages\\~ip-20.2.3.dist-info\n",
      "  Moving to c:\\users\\aymen\\appdata\\roaming\\python\\python38\\site-packages\\pip\\\n",
      "   from C:\\Users\\aymen\\AppData\\Roaming\\Python\\Python38\\site-packages\\~ip\n",
      "Note: you may need to restart the kernel to use updated packages.\n"
     ]
    },
    {
     "name": "stderr",
     "output_type": "stream",
     "text": [
      "ERROR: Exception:\n",
      "Traceback (most recent call last):\n",
      "  File \"C:\\Users\\aymen\\AppData\\Roaming\\Python\\Python38\\site-packages\\pip\\_internal\\cli\\base_command.py\", line 228, in _main\n",
      "    status = self.run(options, args)\n",
      "  File \"C:\\Users\\aymen\\AppData\\Roaming\\Python\\Python38\\site-packages\\pip\\_internal\\cli\\req_command.py\", line 182, in wrapper\n",
      "    return func(self, options, args)\n",
      "  File \"C:\\Users\\aymen\\AppData\\Roaming\\Python\\Python38\\site-packages\\pip\\_internal\\commands\\install.py\", line 397, in run\n",
      "    installed = install_given_reqs(\n",
      "  File \"C:\\Users\\aymen\\AppData\\Roaming\\Python\\Python38\\site-packages\\pip\\_internal\\req\\__init__.py\", line 82, in install_given_reqs\n",
      "    requirement.install(\n",
      "  File \"C:\\Users\\aymen\\AppData\\Roaming\\Python\\Python38\\site-packages\\pip\\_internal\\req\\req_install.py\", line 814, in install\n",
      "    install_wheel(\n",
      "  File \"C:\\Users\\aymen\\AppData\\Roaming\\Python\\Python38\\site-packages\\pip\\_internal\\operations\\install\\wheel.py\", line 852, in install_wheel\n",
      "    _install_wheel(\n",
      "  File \"C:\\Users\\aymen\\AppData\\Roaming\\Python\\Python38\\site-packages\\pip\\_internal\\operations\\install\\wheel.py\", line 762, in _install_wheel\n",
      "    generated_console_scripts = maker.make_multiple(scripts_to_generate)\n",
      "  File \"C:\\Users\\aymen\\AppData\\Roaming\\Python\\Python38\\site-packages\\pip\\_vendor\\distlib\\scripts.py\", line 418, in make_multiple\n",
      "    filenames.extend(self.make(specification, options))\n",
      "  File \"C:\\Users\\aymen\\AppData\\Roaming\\Python\\Python38\\site-packages\\pip\\_internal\\operations\\install\\wheel.py\", line 498, in make\n",
      "    return super(PipScriptMaker, self).make(specification, options)\n",
      "  File \"C:\\Users\\aymen\\AppData\\Roaming\\Python\\Python38\\site-packages\\pip\\_vendor\\distlib\\scripts.py\", line 407, in make\n",
      "    self._make_script(entry, filenames, options=options)\n",
      "  File \"C:\\Users\\aymen\\AppData\\Roaming\\Python\\Python38\\site-packages\\pip\\_vendor\\distlib\\scripts.py\", line 307, in _make_script\n",
      "    self._write_script(scriptnames, shebang, script, filenames, ext)\n",
      "  File \"C:\\Users\\aymen\\AppData\\Roaming\\Python\\Python38\\site-packages\\pip\\_vendor\\distlib\\scripts.py\", line 242, in _write_script\n",
      "    launcher = self._get_launcher('t')\n",
      "  File \"C:\\Users\\aymen\\AppData\\Roaming\\Python\\Python38\\site-packages\\pip\\_vendor\\distlib\\scripts.py\", line 386, in _get_launcher\n",
      "    raise ValueError(msg)\n",
      "ValueError: Unable to find resource t64.exe in package pip._vendor.distlib\n",
      "WARNING: You are using pip version 20.2.3; however, version 21.0.1 is available.\n",
      "You should consider upgrading via the 'C:\\Users\\aymen\\anaconda3\\python.exe -m pip install --upgrade pip' command.\n"
     ]
    }
   ],
   "source": [
    "pip install --upgrade pip"
   ]
  },
  {
   "cell_type": "code",
   "execution_count": 5,
   "metadata": {},
   "outputs": [
    {
     "data": {
      "text/plain": [
       "'{\"results\":[{\"gender\":\"female\",\"name\":{\"title\":\"Mrs\",\"first\":\"Nalan\",\"last\":\"Akman\"},\"location\":{\"street\":{\"number\":7000,\"name\":\"Anafartalar Cd\"},\"city\":\"Diyarbakır\",\"state\":\"Bayburt\",\"country\":\"Turkey\",\"postcode\":74553,\"coordinates\":{\"latitude\":\"70.8046\",\"longitude\":\"19.3694\"},\"timezone\":{\"offset\":\"+8:00\",\"description\":\"Beijing, Perth, Singapore, Hong Kong\"}},\"email\":\"nalan.akman@example.com\",\"login\":{\"uuid\":\"b19db14d-b3e9-4358-8d74-815fc4ed7541\",\"username\":\"crazylion176\",\"password\":\"iceman\",\"salt\":\"m4JowHq2\",\"md5\":\"85ab4e6e4f299b147fc448ea7ddcaf21\",\"sha1\":\"e4f8c6c9dcddb0c258fdbd2dcd1ba9db65701e1c\",\"sha256\":\"8cb3a1ae88a91f13a32a055ac5bc2f2590b5dd0bdd8e4d08d5f03617119c3c24\"},\"dob\":{\"date\":\"1964-01-14T22:18:04.022Z\",\"age\":57},\"registered\":{\"date\":\"2019-06-08T08:07:10.162Z\",\"age\":2},\"phone\":\"(298)-432-0862\",\"cell\":\"(237)-685-5544\",\"id\":{\"name\":\"\",\"value\":null},\"picture\":{\"large\":\"https://randomuser.me/api/portraits/women/78.jpg\",\"medium\":\"https://randomuser.me/api/portraits/med/women/78.jpg\",\"thumbnail\":\"https://randomuser.me/api/portraits/thumb/women/78.jpg\"},\"nat\":\"TR\"}],\"info\":{\"seed\":\"3b879f9b1aa4b941\",\"results\":1,\"page\":1,\"version\":\"1.3\"}}'"
      ]
     },
     "execution_count": 5,
     "metadata": {},
     "output_type": "execute_result"
    }
   ],
   "source": [
    "import requests\n",
    "response = requests.get(\"https://randomuser.me/api/\")\n",
    "response.text"
   ]
  },
  {
   "cell_type": "code",
   "execution_count": 7,
   "metadata": {},
   "outputs": [
    {
     "data": {
      "text/plain": [
       "'{\"current_user_url\":\"https://api.github.com/user\",\"current_user_authorizations_html_url\":\"https://github.com/settings/connections/applications{/client_id}\",\"authorizations_url\":\"https://api.github.com/authorizations\",\"code_search_url\":\"https://api.github.com/search/code?q={query}{&page,per_page,sort,order}\",\"commit_search_url\":\"https://api.github.com/search/commits?q={query}{&page,per_page,sort,order}\",\"emails_url\":\"https://api.github.com/user/emails\",\"emojis_url\":\"https://api.github.com/emojis\",\"events_url\":\"https://api.github.com/events\",\"feeds_url\":\"https://api.github.com/feeds\",\"followers_url\":\"https://api.github.com/user/followers\",\"following_url\":\"https://api.github.com/user/following{/target}\",\"gists_url\":\"https://api.github.com/gists{/gist_id}\",\"hub_url\":\"https://api.github.com/hub\",\"issue_search_url\":\"https://api.github.com/search/issues?q={query}{&page,per_page,sort,order}\",\"issues_url\":\"https://api.github.com/issues\",\"keys_url\":\"https://api.github.com/user/keys\",\"label_search_url\":\"https://api.github.com/search/labels?q={query}&repository_id={repository_id}{&page,per_page}\",\"notifications_url\":\"https://api.github.com/notifications\",\"organization_url\":\"https://api.github.com/orgs/{org}\",\"organization_repositories_url\":\"https://api.github.com/orgs/{org}/repos{?type,page,per_page,sort}\",\"organization_teams_url\":\"https://api.github.com/orgs/{org}/teams\",\"public_gists_url\":\"https://api.github.com/gists/public\",\"rate_limit_url\":\"https://api.github.com/rate_limit\",\"repository_url\":\"https://api.github.com/repos/{owner}/{repo}\",\"repository_search_url\":\"https://api.github.com/search/repositories?q={query}{&page,per_page,sort,order}\",\"current_user_repositories_url\":\"https://api.github.com/user/repos{?type,page,per_page,sort}\",\"starred_url\":\"https://api.github.com/user/starred{/owner}{/repo}\",\"starred_gists_url\":\"https://api.github.com/gists/starred\",\"user_url\":\"https://api.github.com/users/{user}\",\"user_organizations_url\":\"https://api.github.com/user/orgs\",\"user_repositories_url\":\"https://api.github.com/users/{user}/repos{?type,page,per_page,sort}\",\"user_search_url\":\"https://api.github.com/search/users?q={query}{&page,per_page,sort,order}\"}'"
      ]
     },
     "execution_count": 7,
     "metadata": {},
     "output_type": "execute_result"
    }
   ],
   "source": [
    "import requests\n",
    "response = requests.get(\"https://api.github.com\")\n",
    "response.text"
   ]
  },
  {
   "cell_type": "code",
   "execution_count": 8,
   "metadata": {},
   "outputs": [
    {
     "data": {
      "text/plain": [
       "'{\"message\":\"The Dog API\"}'"
      ]
     },
     "execution_count": 8,
     "metadata": {},
     "output_type": "execute_result"
    }
   ],
   "source": [
    "import requests\n",
    "response = requests.get(\"https://api.thedogapi.com/\")\n",
    "response.text"
   ]
  },
  {
   "cell_type": "code",
   "execution_count": null,
   "metadata": {},
   "outputs": [],
   "source": []
  }
 ],
 "metadata": {
  "kernelspec": {
   "display_name": "Python 3",
   "language": "python",
   "name": "python3"
  },
  "language_info": {
   "codemirror_mode": {
    "name": "ipython",
    "version": 3
   },
   "file_extension": ".py",
   "mimetype": "text/x-python",
   "name": "python",
   "nbconvert_exporter": "python",
   "pygments_lexer": "ipython3",
   "version": "3.8.5"
  }
 },
 "nbformat": 4,
 "nbformat_minor": 4
}
